{
 "cells": [
  {
   "cell_type": "code",
   "execution_count": 2,
   "id": "0add4223-7458-4bdc-ad89-4e898c3b745f",
   "metadata": {
    "tags": []
   },
   "outputs": [
    {
     "name": "stdout",
     "output_type": "stream",
     "text": [
      "Original circuit:\n",
      "   ┌─────────────────┐\n",
      "q: ┤ U(π/5,π/3,π/60) ├\n",
      "   └─────────────────┘\n",
      "Rec:  0 Error: 0.14644872427360275\n",
      "Rec:  1 Error: 0.18240699538091568\n",
      "Rec:  2 Error: 0.09108227171098786\n",
      "Rec:  3 Error: 0.07354673715152492\n",
      "Rec:  4 Error: 0.017412100309821706\n",
      "Rec:  5 Error: 0.0004710320078827171\n",
      "Rec:  6 Error: 1.3116921620040498e-05\n",
      "Rec:  7 Error: 9.70297571448106e-07\n",
      "Rec:  8 Error: 9.70297571448106e-07\n"
     ]
    }
   ],
   "source": [
    "# https://qiskit.org/documentation/_modules/qiskit/transpiler/passes/synthesis/solovay_kitaev_synthesis.html#SolovayKitaevSynthesis\n",
    "import numpy as np\n",
    "from qiskit.circuit import QuantumCircuit\n",
    "from qiskit.transpiler.passes.synthesis import SolovayKitaev\n",
    "from qiskit.quantum_info import Operator\n",
    "from qiskit.synthesis import generate_basic_approximations\n",
    "\n",
    "circuit = QuantumCircuit(1)\n",
    "\n",
    "theta = np.pi / 5\n",
    "phi = np.pi / 3\n",
    "lam = 0.1 * np.pi / 6\n",
    "\n",
    "circuit.u(theta, phi, lam, 0)\n",
    "\n",
    "\n",
    "print(\"Original circuit:\")\n",
    "print(circuit.draw())\n",
    "\n",
    "# Start SK approx\n",
    "basis = [\"t\", \"tdg\", \"h\"]\n",
    "approx = generate_basic_approximations(basis, depth=9)\n",
    "\n",
    "for rec in range(0,9):\n",
    "    skd = SolovayKitaev(recursion_degree=rec, basic_approximations=approx)\n",
    "    discretized = skd(circuit)\n",
    "    err = np.linalg.norm(Operator(circuit).data - Operator(discretized).data)\n",
    "    print(\"Rec: \", rec ,\"Error:\", err)\n",
    "\n",
    "# print(discretized.draw())\n",
    "\n",
    "\n",
    "\n",
    "\n"
   ]
  },
  {
   "cell_type": "code",
   "execution_count": null,
   "id": "c767a332-24a4-44c6-a282-f4d085707875",
   "metadata": {},
   "outputs": [],
   "source": []
  },
  {
   "cell_type": "code",
   "execution_count": null,
   "id": "f0af846c-e936-4b8e-be4e-768051fb0ddd",
   "metadata": {},
   "outputs": [],
   "source": []
  }
 ],
 "metadata": {
  "kernelspec": {
   "display_name": "Python 3 (ipykernel)",
   "language": "python",
   "name": "python3"
  },
  "language_info": {
   "codemirror_mode": {
    "name": "ipython",
    "version": 3
   },
   "file_extension": ".py",
   "mimetype": "text/x-python",
   "name": "python",
   "nbconvert_exporter": "python",
   "pygments_lexer": "ipython3",
   "version": "3.10.6"
  }
 },
 "nbformat": 4,
 "nbformat_minor": 5
}
